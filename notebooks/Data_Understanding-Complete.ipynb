{
 "cells": [
  {
   "cell_type": "markdown",
   "id": "6dd60d92",
   "metadata": {},
   "source": [
    "# Covid Infections and Vaccination Data\n",
    "\n",
    "#### Covid Infections and Vaccination Data of India, Germany and Spain over Time \n"
   ]
  },
  {
   "cell_type": "code",
   "execution_count": 1,
   "id": "354b8c9c",
   "metadata": {},
   "outputs": [],
   "source": [
    "import pandas as pd\n",
    "import numpy as np\n",
    "\n",
    "import subprocess\n",
    "import os\n",
    "from datetime import datetime\n",
    "\n",
    "%matplotlib inline\n",
    "import matplotlib as mpl\n",
    "import matplotlib.pyplot as plt\n",
    "\n",
    "import seaborn as sns"
   ]
  },
  {
   "cell_type": "code",
   "execution_count": 2,
   "id": "8d42867d",
   "metadata": {},
   "outputs": [],
   "source": [
    "mpl.rcParams['figure.figsize'] = (16, 9)\n",
    "pd.set_option('display.max_rows', 800)\n",
    "\n",
    "sns.set(style=\"darkgrid\")"
   ]
  },
  {
   "cell_type": "markdown",
   "id": "cab77e22",
   "metadata": {},
   "source": [
    "### Updating the covid infection data using git pull"
   ]
  },
  {
   "cell_type": "code",
   "execution_count": 3,
   "id": "9c1503bb",
   "metadata": {},
   "outputs": [
    {
     "name": "stdout",
     "output_type": "stream",
     "text": [
      "Error : b'From https://github.com/CSSEGISandData/COVID-19\\n * branch                  HEAD       -> FETCH_HEAD\\n'\n",
      "out : b'Already up to date.\\n'\n"
     ]
    }
   ],
   "source": [
    "git_pull = subprocess.Popen( \"git pull https://github.com/CSSEGISandData/COVID-19.git\" , \n",
    "                     cwd = os.path.dirname( '../data/raw/COVID-19/' ), \n",
    "                     shell = True, \n",
    "                     stdout = subprocess.PIPE, \n",
    "                     stderr = subprocess.PIPE )\n",
    "(out, error) = git_pull.communicate()\n",
    "\n",
    "\n",
    "print(\"Error : \" + str(error)) \n",
    "print(\"out : \" + str(out))"
   ]
  },
  {
   "cell_type": "code",
   "execution_count": 4,
   "id": "a9e4add0",
   "metadata": {},
   "outputs": [],
   "source": [
    "data_path='../data/raw/COVID-19/csse_covid_19_data/csse_covid_19_time_series/time_series_covid19_confirmed_global.csv'\n",
    "# Path of John Hopkins covid data downloaded from github and updated using git pull"
   ]
  },
  {
   "cell_type": "code",
   "execution_count": 5,
   "id": "c008e518",
   "metadata": {},
   "outputs": [],
   "source": [
    "pd_raw=pd.read_csv(data_path) #To Read CSV Data for covid cases"
   ]
  },
  {
   "cell_type": "code",
   "execution_count": 6,
   "id": "374aa697",
   "metadata": {
    "scrolled": false
   },
   "outputs": [
    {
     "data": {
      "text/html": [
       "<div>\n",
       "<style scoped>\n",
       "    .dataframe tbody tr th:only-of-type {\n",
       "        vertical-align: middle;\n",
       "    }\n",
       "\n",
       "    .dataframe tbody tr th {\n",
       "        vertical-align: top;\n",
       "    }\n",
       "\n",
       "    .dataframe thead th {\n",
       "        text-align: right;\n",
       "    }\n",
       "</style>\n",
       "<table border=\"1\" class=\"dataframe\">\n",
       "  <thead>\n",
       "    <tr style=\"text-align: right;\">\n",
       "      <th></th>\n",
       "      <th>Province/State</th>\n",
       "      <th>Country/Region</th>\n",
       "      <th>Lat</th>\n",
       "      <th>Long</th>\n",
       "      <th>1/22/20</th>\n",
       "      <th>1/23/20</th>\n",
       "      <th>1/24/20</th>\n",
       "      <th>1/25/20</th>\n",
       "      <th>1/26/20</th>\n",
       "      <th>1/27/20</th>\n",
       "      <th>...</th>\n",
       "      <th>6/16/22</th>\n",
       "      <th>6/17/22</th>\n",
       "      <th>6/18/22</th>\n",
       "      <th>6/19/22</th>\n",
       "      <th>6/20/22</th>\n",
       "      <th>6/21/22</th>\n",
       "      <th>6/22/22</th>\n",
       "      <th>6/23/22</th>\n",
       "      <th>6/24/22</th>\n",
       "      <th>6/25/22</th>\n",
       "    </tr>\n",
       "  </thead>\n",
       "  <tbody>\n",
       "    <tr>\n",
       "      <th>0</th>\n",
       "      <td>NaN</td>\n",
       "      <td>Afghanistan</td>\n",
       "      <td>33.93911</td>\n",
       "      <td>67.709953</td>\n",
       "      <td>0</td>\n",
       "      <td>0</td>\n",
       "      <td>0</td>\n",
       "      <td>0</td>\n",
       "      <td>0</td>\n",
       "      <td>0</td>\n",
       "      <td>...</td>\n",
       "      <td>181465</td>\n",
       "      <td>181534</td>\n",
       "      <td>181574</td>\n",
       "      <td>181666</td>\n",
       "      <td>181725</td>\n",
       "      <td>181808</td>\n",
       "      <td>181912</td>\n",
       "      <td>181987</td>\n",
       "      <td>182033</td>\n",
       "      <td>182072</td>\n",
       "    </tr>\n",
       "    <tr>\n",
       "      <th>1</th>\n",
       "      <td>NaN</td>\n",
       "      <td>Albania</td>\n",
       "      <td>41.15330</td>\n",
       "      <td>20.168300</td>\n",
       "      <td>0</td>\n",
       "      <td>0</td>\n",
       "      <td>0</td>\n",
       "      <td>0</td>\n",
       "      <td>0</td>\n",
       "      <td>0</td>\n",
       "      <td>...</td>\n",
       "      <td>276821</td>\n",
       "      <td>277141</td>\n",
       "      <td>277141</td>\n",
       "      <td>277409</td>\n",
       "      <td>277444</td>\n",
       "      <td>277663</td>\n",
       "      <td>277940</td>\n",
       "      <td>278211</td>\n",
       "      <td>278504</td>\n",
       "      <td>278793</td>\n",
       "    </tr>\n",
       "    <tr>\n",
       "      <th>2</th>\n",
       "      <td>NaN</td>\n",
       "      <td>Algeria</td>\n",
       "      <td>28.03390</td>\n",
       "      <td>1.659600</td>\n",
       "      <td>0</td>\n",
       "      <td>0</td>\n",
       "      <td>0</td>\n",
       "      <td>0</td>\n",
       "      <td>0</td>\n",
       "      <td>0</td>\n",
       "      <td>...</td>\n",
       "      <td>265964</td>\n",
       "      <td>265968</td>\n",
       "      <td>265971</td>\n",
       "      <td>265975</td>\n",
       "      <td>265985</td>\n",
       "      <td>265993</td>\n",
       "      <td>266006</td>\n",
       "      <td>266015</td>\n",
       "      <td>266025</td>\n",
       "      <td>266030</td>\n",
       "    </tr>\n",
       "    <tr>\n",
       "      <th>3</th>\n",
       "      <td>NaN</td>\n",
       "      <td>Andorra</td>\n",
       "      <td>42.50630</td>\n",
       "      <td>1.521800</td>\n",
       "      <td>0</td>\n",
       "      <td>0</td>\n",
       "      <td>0</td>\n",
       "      <td>0</td>\n",
       "      <td>0</td>\n",
       "      <td>0</td>\n",
       "      <td>...</td>\n",
       "      <td>43449</td>\n",
       "      <td>43449</td>\n",
       "      <td>43449</td>\n",
       "      <td>43449</td>\n",
       "      <td>43449</td>\n",
       "      <td>43449</td>\n",
       "      <td>43774</td>\n",
       "      <td>43774</td>\n",
       "      <td>43774</td>\n",
       "      <td>43774</td>\n",
       "    </tr>\n",
       "    <tr>\n",
       "      <th>4</th>\n",
       "      <td>NaN</td>\n",
       "      <td>Angola</td>\n",
       "      <td>-11.20270</td>\n",
       "      <td>17.873900</td>\n",
       "      <td>0</td>\n",
       "      <td>0</td>\n",
       "      <td>0</td>\n",
       "      <td>0</td>\n",
       "      <td>0</td>\n",
       "      <td>0</td>\n",
       "      <td>...</td>\n",
       "      <td>99761</td>\n",
       "      <td>99761</td>\n",
       "      <td>99761</td>\n",
       "      <td>99761</td>\n",
       "      <td>99761</td>\n",
       "      <td>99761</td>\n",
       "      <td>99761</td>\n",
       "      <td>99761</td>\n",
       "      <td>99761</td>\n",
       "      <td>99761</td>\n",
       "    </tr>\n",
       "  </tbody>\n",
       "</table>\n",
       "<p>5 rows × 890 columns</p>\n",
       "</div>"
      ],
      "text/plain": [
       "  Province/State Country/Region       Lat       Long  1/22/20  1/23/20  \\\n",
       "0            NaN    Afghanistan  33.93911  67.709953        0        0   \n",
       "1            NaN        Albania  41.15330  20.168300        0        0   \n",
       "2            NaN        Algeria  28.03390   1.659600        0        0   \n",
       "3            NaN        Andorra  42.50630   1.521800        0        0   \n",
       "4            NaN         Angola -11.20270  17.873900        0        0   \n",
       "\n",
       "   1/24/20  1/25/20  1/26/20  1/27/20  ...  6/16/22  6/17/22  6/18/22  \\\n",
       "0        0        0        0        0  ...   181465   181534   181574   \n",
       "1        0        0        0        0  ...   276821   277141   277141   \n",
       "2        0        0        0        0  ...   265964   265968   265971   \n",
       "3        0        0        0        0  ...    43449    43449    43449   \n",
       "4        0        0        0        0  ...    99761    99761    99761   \n",
       "\n",
       "   6/19/22  6/20/22  6/21/22  6/22/22  6/23/22  6/24/22  6/25/22  \n",
       "0   181666   181725   181808   181912   181987   182033   182072  \n",
       "1   277409   277444   277663   277940   278211   278504   278793  \n",
       "2   265975   265985   265993   266006   266015   266025   266030  \n",
       "3    43449    43449    43449    43774    43774    43774    43774  \n",
       "4    99761    99761    99761    99761    99761    99761    99761  \n",
       "\n",
       "[5 rows x 890 columns]"
      ]
     },
     "execution_count": 6,
     "metadata": {},
     "output_type": "execute_result"
    }
   ],
   "source": [
    "pd_raw.head() #To display the firt n rows CSV data"
   ]
  },
  {
   "cell_type": "markdown",
   "id": "fbf19a97",
   "metadata": {},
   "source": [
    "### Representing the data in a better format"
   ]
  },
  {
   "cell_type": "code",
   "execution_count": 7,
   "id": "8d159e9a",
   "metadata": {},
   "outputs": [],
   "source": [
    "time_idx = pd_raw.columns[4:] # To get all columns with dates"
   ]
  },
  {
   "cell_type": "code",
   "execution_count": 8,
   "id": "242c6dfa",
   "metadata": {},
   "outputs": [],
   "source": [
    "df_plot = pd.DataFrame({'date':time_idx}) # To create a new data set with a column named date containing all the dates from the previous data\n",
    "# df_plot.head()"
   ]
  },
  {
   "cell_type": "code",
   "execution_count": 9,
   "id": "75b28636",
   "metadata": {
    "scrolled": true
   },
   "outputs": [
    {
     "data": {
      "text/plain": [
       "array(['Afghanistan', 'Albania', 'Algeria', 'Andorra', 'Angola',\n",
       "       'Antarctica', 'Antigua and Barbuda', 'Argentina', 'Armenia',\n",
       "       'Australia', 'Austria', 'Azerbaijan', 'Bahamas', 'Bahrain',\n",
       "       'Bangladesh', 'Barbados', 'Belarus', 'Belgium', 'Belize', 'Benin',\n",
       "       'Bhutan', 'Bolivia', 'Bosnia and Herzegovina', 'Botswana',\n",
       "       'Brazil', 'Brunei', 'Bulgaria', 'Burkina Faso', 'Burma', 'Burundi',\n",
       "       'Cabo Verde', 'Cambodia', 'Cameroon', 'Canada',\n",
       "       'Central African Republic', 'Chad', 'Chile', 'China', 'Colombia',\n",
       "       'Comoros', 'Congo (Brazzaville)', 'Congo (Kinshasa)', 'Costa Rica',\n",
       "       \"Cote d'Ivoire\", 'Croatia', 'Cuba', 'Cyprus', 'Czechia', 'Denmark',\n",
       "       'Diamond Princess', 'Djibouti', 'Dominica', 'Dominican Republic',\n",
       "       'Ecuador', 'Egypt', 'El Salvador', 'Equatorial Guinea', 'Eritrea',\n",
       "       'Estonia', 'Eswatini', 'Ethiopia', 'Fiji', 'Finland', 'France',\n",
       "       'Gabon', 'Gambia', 'Georgia', 'Germany', 'Ghana', 'Greece',\n",
       "       'Grenada', 'Guatemala', 'Guinea', 'Guinea-Bissau', 'Guyana',\n",
       "       'Haiti', 'Holy See', 'Honduras', 'Hungary', 'Iceland', 'India',\n",
       "       'Indonesia', 'Iran', 'Iraq', 'Ireland', 'Israel', 'Italy',\n",
       "       'Jamaica', 'Japan', 'Jordan', 'Kazakhstan', 'Kenya', 'Kiribati',\n",
       "       'Korea, North', 'Korea, South', 'Kosovo', 'Kuwait', 'Kyrgyzstan',\n",
       "       'Laos', 'Latvia', 'Lebanon', 'Lesotho', 'Liberia', 'Libya',\n",
       "       'Liechtenstein', 'Lithuania', 'Luxembourg', 'MS Zaandam',\n",
       "       'Madagascar', 'Malawi', 'Malaysia', 'Maldives', 'Mali', 'Malta',\n",
       "       'Marshall Islands', 'Mauritania', 'Mauritius', 'Mexico',\n",
       "       'Micronesia', 'Moldova', 'Monaco', 'Mongolia', 'Montenegro',\n",
       "       'Morocco', 'Mozambique', 'Namibia', 'Nepal', 'Netherlands',\n",
       "       'New Zealand', 'Nicaragua', 'Niger', 'Nigeria', 'North Macedonia',\n",
       "       'Norway', 'Oman', 'Pakistan', 'Palau', 'Panama',\n",
       "       'Papua New Guinea', 'Paraguay', 'Peru', 'Philippines', 'Poland',\n",
       "       'Portugal', 'Qatar', 'Romania', 'Russia', 'Rwanda',\n",
       "       'Saint Kitts and Nevis', 'Saint Lucia',\n",
       "       'Saint Vincent and the Grenadines', 'Samoa', 'San Marino',\n",
       "       'Sao Tome and Principe', 'Saudi Arabia', 'Senegal', 'Serbia',\n",
       "       'Seychelles', 'Sierra Leone', 'Singapore', 'Slovakia', 'Slovenia',\n",
       "       'Solomon Islands', 'Somalia', 'South Africa', 'South Sudan',\n",
       "       'Spain', 'Sri Lanka', 'Sudan', 'Summer Olympics 2020', 'Suriname',\n",
       "       'Sweden', 'Switzerland', 'Syria', 'Taiwan*', 'Tajikistan',\n",
       "       'Tanzania', 'Thailand', 'Timor-Leste', 'Togo', 'Tonga',\n",
       "       'Trinidad and Tobago', 'Tunisia', 'Turkey', 'US', 'Uganda',\n",
       "       'Ukraine', 'United Arab Emirates', 'United Kingdom', 'Uruguay',\n",
       "       'Uzbekistan', 'Vanuatu', 'Venezuela', 'Vietnam',\n",
       "       'West Bank and Gaza', 'Winter Olympics 2022', 'Yemen', 'Zambia',\n",
       "       'Zimbabwe'], dtype=object)"
      ]
     },
     "execution_count": 9,
     "metadata": {},
     "output_type": "execute_result"
    }
   ],
   "source": [
    "pd_raw['Country/Region'].unique() "
   ]
  },
  {
   "cell_type": "code",
   "execution_count": 10,
   "id": "1b5a635a",
   "metadata": {},
   "outputs": [],
   "source": [
    "country_list=['India','Germany','Spain',] "
   ]
  },
  {
   "cell_type": "code",
   "execution_count": 11,
   "id": "09d088d6",
   "metadata": {},
   "outputs": [],
   "source": [
    "for each in country_list:\n",
    "    df_plot[each]=np.array(pd_raw[pd_raw['Country/Region']==each].iloc[:,4::].sum(axis=0))"
   ]
  },
  {
   "cell_type": "code",
   "execution_count": 12,
   "id": "fef443a0",
   "metadata": {},
   "outputs": [
    {
     "data": {
      "text/html": [
       "<div>\n",
       "<style scoped>\n",
       "    .dataframe tbody tr th:only-of-type {\n",
       "        vertical-align: middle;\n",
       "    }\n",
       "\n",
       "    .dataframe tbody tr th {\n",
       "        vertical-align: top;\n",
       "    }\n",
       "\n",
       "    .dataframe thead th {\n",
       "        text-align: right;\n",
       "    }\n",
       "</style>\n",
       "<table border=\"1\" class=\"dataframe\">\n",
       "  <thead>\n",
       "    <tr style=\"text-align: right;\">\n",
       "      <th></th>\n",
       "      <th>date</th>\n",
       "      <th>India</th>\n",
       "      <th>Germany</th>\n",
       "      <th>Spain</th>\n",
       "    </tr>\n",
       "  </thead>\n",
       "  <tbody>\n",
       "    <tr>\n",
       "      <th>881</th>\n",
       "      <td>6/21/22</td>\n",
       "      <td>43331645</td>\n",
       "      <td>27454225</td>\n",
       "      <td>12613634</td>\n",
       "    </tr>\n",
       "    <tr>\n",
       "      <th>882</th>\n",
       "      <td>6/22/22</td>\n",
       "      <td>43344958</td>\n",
       "      <td>27573585</td>\n",
       "      <td>12613634</td>\n",
       "    </tr>\n",
       "    <tr>\n",
       "      <th>883</th>\n",
       "      <td>6/23/22</td>\n",
       "      <td>43362294</td>\n",
       "      <td>27681775</td>\n",
       "      <td>12613634</td>\n",
       "    </tr>\n",
       "    <tr>\n",
       "      <th>884</th>\n",
       "      <td>6/24/22</td>\n",
       "      <td>43378234</td>\n",
       "      <td>27771111</td>\n",
       "      <td>12681820</td>\n",
       "    </tr>\n",
       "    <tr>\n",
       "      <th>885</th>\n",
       "      <td>6/25/22</td>\n",
       "      <td>43389973</td>\n",
       "      <td>27771112</td>\n",
       "      <td>12681820</td>\n",
       "    </tr>\n",
       "  </tbody>\n",
       "</table>\n",
       "</div>"
      ],
      "text/plain": [
       "        date     India   Germany     Spain\n",
       "881  6/21/22  43331645  27454225  12613634\n",
       "882  6/22/22  43344958  27573585  12613634\n",
       "883  6/23/22  43362294  27681775  12613634\n",
       "884  6/24/22  43378234  27771111  12681820\n",
       "885  6/25/22  43389973  27771112  12681820"
      ]
     },
     "execution_count": 12,
     "metadata": {},
     "output_type": "execute_result"
    }
   ],
   "source": [
    "df_plot[-5:] # To Display cases in last 5 days"
   ]
  },
  {
   "cell_type": "code",
   "execution_count": 13,
   "id": "0ddc357e",
   "metadata": {},
   "outputs": [],
   "source": [
    "# Population data for determining COVID cases per population\n",
    "india_pop = 1352617328\n",
    "germany_pop = 82927922\n",
    "spain_pop = 46723749"
   ]
  },
  {
   "cell_type": "code",
   "execution_count": 14,
   "id": "bb541b94",
   "metadata": {},
   "outputs": [],
   "source": [
    "cases_per_pop = df_plot.copy()\n"
   ]
  },
  {
   "cell_type": "code",
   "execution_count": 15,
   "id": "630dba66",
   "metadata": {},
   "outputs": [],
   "source": [
    "cases_per_pop[\"India\"] = df_plot[\"India\"].div(india_pop)\n",
    "cases_per_pop[\"Germany\"] = df_plot[\"Germany\"].div(germany_pop)\n",
    "cases_per_pop[\"Spain\"] = df_plot[\"Spain\"].div(spain_pop)"
   ]
  },
  {
   "cell_type": "code",
   "execution_count": 16,
   "id": "7abbf68e",
   "metadata": {},
   "outputs": [
    {
     "data": {
      "text/html": [
       "<div>\n",
       "<style scoped>\n",
       "    .dataframe tbody tr th:only-of-type {\n",
       "        vertical-align: middle;\n",
       "    }\n",
       "\n",
       "    .dataframe tbody tr th {\n",
       "        vertical-align: top;\n",
       "    }\n",
       "\n",
       "    .dataframe thead th {\n",
       "        text-align: right;\n",
       "    }\n",
       "</style>\n",
       "<table border=\"1\" class=\"dataframe\">\n",
       "  <thead>\n",
       "    <tr style=\"text-align: right;\">\n",
       "      <th></th>\n",
       "      <th>date</th>\n",
       "      <th>India</th>\n",
       "      <th>Germany</th>\n",
       "      <th>Spain</th>\n",
       "    </tr>\n",
       "  </thead>\n",
       "  <tbody>\n",
       "    <tr>\n",
       "      <th>881</th>\n",
       "      <td>6/21/22</td>\n",
       "      <td>0.032035</td>\n",
       "      <td>0.331061</td>\n",
       "      <td>0.269962</td>\n",
       "    </tr>\n",
       "    <tr>\n",
       "      <th>882</th>\n",
       "      <td>6/22/22</td>\n",
       "      <td>0.032045</td>\n",
       "      <td>0.332501</td>\n",
       "      <td>0.269962</td>\n",
       "    </tr>\n",
       "    <tr>\n",
       "      <th>883</th>\n",
       "      <td>6/23/22</td>\n",
       "      <td>0.032058</td>\n",
       "      <td>0.333805</td>\n",
       "      <td>0.269962</td>\n",
       "    </tr>\n",
       "    <tr>\n",
       "      <th>884</th>\n",
       "      <td>6/24/22</td>\n",
       "      <td>0.032070</td>\n",
       "      <td>0.334883</td>\n",
       "      <td>0.271421</td>\n",
       "    </tr>\n",
       "    <tr>\n",
       "      <th>885</th>\n",
       "      <td>6/25/22</td>\n",
       "      <td>0.032079</td>\n",
       "      <td>0.334883</td>\n",
       "      <td>0.271421</td>\n",
       "    </tr>\n",
       "  </tbody>\n",
       "</table>\n",
       "</div>"
      ],
      "text/plain": [
       "        date     India   Germany     Spain\n",
       "881  6/21/22  0.032035  0.331061  0.269962\n",
       "882  6/22/22  0.032045  0.332501  0.269962\n",
       "883  6/23/22  0.032058  0.333805  0.269962\n",
       "884  6/24/22  0.032070  0.334883  0.271421\n",
       "885  6/25/22  0.032079  0.334883  0.271421"
      ]
     },
     "execution_count": 16,
     "metadata": {},
     "output_type": "execute_result"
    }
   ],
   "source": [
    "cases_per_pop[-5:]\n"
   ]
  },
  {
   "cell_type": "code",
   "execution_count": 17,
   "id": "f8330c8c",
   "metadata": {},
   "outputs": [],
   "source": [
    "# Changing date to a standard format"
   ]
  },
  {
   "cell_type": "code",
   "execution_count": 18,
   "id": "85ddfdb9",
   "metadata": {},
   "outputs": [],
   "source": [
    "time_idx=[datetime.strptime( each,\"%m/%d/%y\") for each in df_plot.date] # convert to datetime\n",
    "time_str=[each.strftime('%Y-%m-%d') for each in time_idx] # convert back to date ISO norm (str)"
   ]
  },
  {
   "cell_type": "code",
   "execution_count": 19,
   "id": "d36ab2eb",
   "metadata": {},
   "outputs": [],
   "source": [
    "df_plot['date']=time_idx\n",
    "# type(df_plot['date'][0])"
   ]
  },
  {
   "cell_type": "code",
   "execution_count": 20,
   "id": "73420890",
   "metadata": {},
   "outputs": [],
   "source": [
    "time_idx1=[datetime.strptime( each,\"%m/%d/%y\") for each in cases_per_pop.date] # convert to datetime\n",
    "time_str1=[each.strftime('%Y-%m-%d') for each in time_idx1] # convert back to date ISO norm (str)"
   ]
  },
  {
   "cell_type": "code",
   "execution_count": 21,
   "id": "57b64bb3",
   "metadata": {},
   "outputs": [],
   "source": [
    "cases_per_pop['date']=time_idx1\n",
    "# type(cases_per_pop['date'][0])"
   ]
  },
  {
   "cell_type": "code",
   "execution_count": 22,
   "id": "06bb9f1e",
   "metadata": {},
   "outputs": [],
   "source": [
    "# df_plot.head() "
   ]
  },
  {
   "cell_type": "code",
   "execution_count": 23,
   "id": "43b2407b",
   "metadata": {},
   "outputs": [],
   "source": [
    "# cases_per_pop"
   ]
  },
  {
   "cell_type": "code",
   "execution_count": 24,
   "id": "fa0a7346",
   "metadata": {},
   "outputs": [],
   "source": [
    "df_plot.to_csv('../data/processed/COVID_small_flat_table.csv',sep=';',index=False)"
   ]
  },
  {
   "cell_type": "code",
   "execution_count": 25,
   "id": "1d34370f",
   "metadata": {},
   "outputs": [],
   "source": [
    "cases_per_pop.to_csv('../data/processed/COVID_per_pop_table.csv',sep=';',index=False)"
   ]
  },
  {
   "cell_type": "markdown",
   "id": "d0910b5a",
   "metadata": {},
   "source": [
    "# Plot of COVID cases over Time"
   ]
  },
  {
   "cell_type": "code",
   "execution_count": 26,
   "id": "52691528",
   "metadata": {},
   "outputs": [
    {
     "data": {
      "text/html": [
       "<div>\n",
       "<style scoped>\n",
       "    .dataframe tbody tr th:only-of-type {\n",
       "        vertical-align: middle;\n",
       "    }\n",
       "\n",
       "    .dataframe tbody tr th {\n",
       "        vertical-align: top;\n",
       "    }\n",
       "\n",
       "    .dataframe thead th {\n",
       "        text-align: right;\n",
       "    }\n",
       "</style>\n",
       "<table border=\"1\" class=\"dataframe\">\n",
       "  <thead>\n",
       "    <tr style=\"text-align: right;\">\n",
       "      <th></th>\n",
       "      <th>date</th>\n",
       "      <th>India</th>\n",
       "      <th>Germany</th>\n",
       "      <th>Spain</th>\n",
       "    </tr>\n",
       "  </thead>\n",
       "  <tbody>\n",
       "    <tr>\n",
       "      <th>885</th>\n",
       "      <td>2022-06-25</td>\n",
       "      <td>43389973</td>\n",
       "      <td>27771112</td>\n",
       "      <td>12681820</td>\n",
       "    </tr>\n",
       "    <tr>\n",
       "      <th>884</th>\n",
       "      <td>2022-06-24</td>\n",
       "      <td>43378234</td>\n",
       "      <td>27771111</td>\n",
       "      <td>12681820</td>\n",
       "    </tr>\n",
       "    <tr>\n",
       "      <th>883</th>\n",
       "      <td>2022-06-23</td>\n",
       "      <td>43362294</td>\n",
       "      <td>27681775</td>\n",
       "      <td>12613634</td>\n",
       "    </tr>\n",
       "    <tr>\n",
       "      <th>882</th>\n",
       "      <td>2022-06-22</td>\n",
       "      <td>43344958</td>\n",
       "      <td>27573585</td>\n",
       "      <td>12613634</td>\n",
       "    </tr>\n",
       "    <tr>\n",
       "      <th>881</th>\n",
       "      <td>2022-06-21</td>\n",
       "      <td>43331645</td>\n",
       "      <td>27454225</td>\n",
       "      <td>12613634</td>\n",
       "    </tr>\n",
       "  </tbody>\n",
       "</table>\n",
       "</div>"
      ],
      "text/plain": [
       "           date     India   Germany     Spain\n",
       "885  2022-06-25  43389973  27771112  12681820\n",
       "884  2022-06-24  43378234  27771111  12681820\n",
       "883  2022-06-23  43362294  27681775  12613634\n",
       "882  2022-06-22  43344958  27573585  12613634\n",
       "881  2022-06-21  43331645  27454225  12613634"
      ]
     },
     "execution_count": 26,
     "metadata": {},
     "output_type": "execute_result"
    }
   ],
   "source": [
    "df_plot=pd.read_csv('../data/processed/COVID_small_flat_table.csv',sep=';')\n",
    "df_plot.sort_values('date',ascending=False).head()"
   ]
  },
  {
   "cell_type": "markdown",
   "id": "dd118b94",
   "metadata": {},
   "source": [
    "### Covid Cases over time "
   ]
  },
  {
   "cell_type": "code",
   "execution_count": 27,
   "id": "643a6229",
   "metadata": {},
   "outputs": [
    {
     "data": {
      "text/plain": [
       "<Figure size 1152x648 with 0 Axes>"
      ]
     },
     "metadata": {},
     "output_type": "display_data"
    },
    {
     "data": {
      "image/png": "[encoded data removed]",
      "text/plain": [
       "<Figure size 1152x648 with 1 Axes>"
      ]
     },
     "metadata": {},
     "output_type": "display_data"
    }
   ],
   "source": [
    "plt.figure();\n",
    "ax=df_plot.iloc[15:,:].set_index('date').plot()\n",
    "plt.ylim(10, 40000000)\n",
    "plt.ylabel('Covid cases')\n",
    "plt.xlabel('Time')\n",
    "plt.title(\"Total Covid cases of India, Germany and Spain over Time\")\n",
    "ax.set_yscale('log')"
   ]
  },
  {
   "cell_type": "markdown",
   "id": "42795e11",
   "metadata": {},
   "source": [
    "### Covid Cases per Population over Time "
   ]
  },
  {
   "cell_type": "code",
   "execution_count": 28,
   "id": "38647913",
   "metadata": {},
   "outputs": [
    {
     "data": {
      "text/html": [
       "<div>\n",
       "<style scoped>\n",
       "    .dataframe tbody tr th:only-of-type {\n",
       "        vertical-align: middle;\n",
       "    }\n",
       "\n",
       "    .dataframe tbody tr th {\n",
       "        vertical-align: top;\n",
       "    }\n",
       "\n",
       "    .dataframe thead th {\n",
       "        text-align: right;\n",
       "    }\n",
       "</style>\n",
       "<table border=\"1\" class=\"dataframe\">\n",
       "  <thead>\n",
       "    <tr style=\"text-align: right;\">\n",
       "      <th></th>\n",
       "      <th>date</th>\n",
       "      <th>India</th>\n",
       "      <th>Germany</th>\n",
       "      <th>Spain</th>\n",
       "    </tr>\n",
       "  </thead>\n",
       "  <tbody>\n",
       "    <tr>\n",
       "      <th>885</th>\n",
       "      <td>2022-06-25</td>\n",
       "      <td>0.032079</td>\n",
       "      <td>0.334883</td>\n",
       "      <td>0.271421</td>\n",
       "    </tr>\n",
       "    <tr>\n",
       "      <th>884</th>\n",
       "      <td>2022-06-24</td>\n",
       "      <td>0.032070</td>\n",
       "      <td>0.334883</td>\n",
       "      <td>0.271421</td>\n",
       "    </tr>\n",
       "    <tr>\n",
       "      <th>883</th>\n",
       "      <td>2022-06-23</td>\n",
       "      <td>0.032058</td>\n",
       "      <td>0.333805</td>\n",
       "      <td>0.269962</td>\n",
       "    </tr>\n",
       "    <tr>\n",
       "      <th>882</th>\n",
       "      <td>2022-06-22</td>\n",
       "      <td>0.032045</td>\n",
       "      <td>0.332501</td>\n",
       "      <td>0.269962</td>\n",
       "    </tr>\n",
       "    <tr>\n",
       "      <th>881</th>\n",
       "      <td>2022-06-21</td>\n",
       "      <td>0.032035</td>\n",
       "      <td>0.331061</td>\n",
       "      <td>0.269962</td>\n",
       "    </tr>\n",
       "  </tbody>\n",
       "</table>\n",
       "</div>"
      ],
      "text/plain": [
       "           date     India   Germany     Spain\n",
       "885  2022-06-25  0.032079  0.334883  0.271421\n",
       "884  2022-06-24  0.032070  0.334883  0.271421\n",
       "883  2022-06-23  0.032058  0.333805  0.269962\n",
       "882  2022-06-22  0.032045  0.332501  0.269962\n",
       "881  2022-06-21  0.032035  0.331061  0.269962"
      ]
     },
     "execution_count": 28,
     "metadata": {},
     "output_type": "execute_result"
    }
   ],
   "source": [
    "cases_per_pop=pd.read_csv('../data/processed/COVID_per_pop_table.csv',sep=';')\n",
    "cases_per_pop.sort_values('date',ascending=False).head()"
   ]
  },
  {
   "cell_type": "code",
   "execution_count": 29,
   "id": "8131cd73",
   "metadata": {},
   "outputs": [
    {
     "data": {
      "text/plain": [
       "Text(0.5, 1.0, 'Total Covid cases per population of India, Germany and Spain over Time')"
      ]
     },
     "execution_count": 29,
     "metadata": {},
     "output_type": "execute_result"
    },
    {
     "data": {
      "text/plain": [
       "<Figure size 1152x648 with 0 Axes>"
      ]
     },
     "metadata": {},
     "output_type": "display_data"
    },
    {
     "data": {
      "image/png": "[encoded data removed]",
      "text/plain": [
       "<Figure size 1152x648 with 1 Axes>"
      ]
     },
     "metadata": {},
     "output_type": "display_data"
    }
   ],
   "source": [
    "plt.figure();\n",
    "ax=cases_per_pop.iloc[15:,:].set_index('date').plot()\n",
    "plt.ylim(0, 0.5)\n",
    "# plt.xlim(0,100)\n",
    "plt.ylabel('Covid cases per population')\n",
    "plt.xlabel('Time')\n",
    "plt.title(\"Total Covid cases per population of India, Germany and Spain over Time\")\n",
    "#ax.set_yscale('log')"
   ]
  },
  {
   "cell_type": "markdown",
   "id": "a2b9c86e",
   "metadata": {},
   "source": [
    "# Vaccination Data representation over time "
   ]
  },
  {
   "cell_type": "code",
   "execution_count": 30,
   "id": "bb6334a9",
   "metadata": {},
   "outputs": [],
   "source": [
    "# data_path_vaccination = \"https://github.com/govex/COVID-19/tree/master/data_tables/vaccine_data/global_data/time_series_covid19_vaccine_global.csv\"\n",
    "\n",
    "data_path_vaccination = \"https://raw.githubusercontent.com/govex/COVID-19/master/data_tables/vaccine_data/global_data/time_series_covid19_vaccine_global.csv\"\n"
   ]
  },
  {
   "cell_type": "code",
   "execution_count": 31,
   "id": "28ed6066",
   "metadata": {},
   "outputs": [],
   "source": [
    "vac=pd.read_csv(data_path_vaccination)"
   ]
  },
  {
   "cell_type": "code",
   "execution_count": 32,
   "id": "4685c13f",
   "metadata": {
    "scrolled": true
   },
   "outputs": [
    {
     "data": {
      "text/html": [
       "<div>\n",
       "<style scoped>\n",
       "    .dataframe tbody tr th:only-of-type {\n",
       "        vertical-align: middle;\n",
       "    }\n",
       "\n",
       "    .dataframe tbody tr th {\n",
       "        vertical-align: top;\n",
       "    }\n",
       "\n",
       "    .dataframe thead th {\n",
       "        text-align: right;\n",
       "    }\n",
       "</style>\n",
       "<table border=\"1\" class=\"dataframe\">\n",
       "  <thead>\n",
       "    <tr style=\"text-align: right;\">\n",
       "      <th></th>\n",
       "      <th>Country_Region</th>\n",
       "      <th>Date</th>\n",
       "      <th>Doses_admin</th>\n",
       "      <th>People_partially_vaccinated</th>\n",
       "      <th>People_fully_vaccinated</th>\n",
       "      <th>Report_Date_String</th>\n",
       "      <th>UID</th>\n",
       "      <th>Province_State</th>\n",
       "    </tr>\n",
       "  </thead>\n",
       "  <tbody>\n",
       "    <tr>\n",
       "      <th>0</th>\n",
       "      <td>Canada</td>\n",
       "      <td>2020-12-14</td>\n",
       "      <td>5.000000e+00</td>\n",
       "      <td>0.000000e+00</td>\n",
       "      <td>0.000000e+00</td>\n",
       "      <td>2020-12-14</td>\n",
       "      <td>124.0</td>\n",
       "      <td>NaN</td>\n",
       "    </tr>\n",
       "    <tr>\n",
       "      <th>1</th>\n",
       "      <td>World</td>\n",
       "      <td>2020-12-14</td>\n",
       "      <td>5.000000e+00</td>\n",
       "      <td>0.000000e+00</td>\n",
       "      <td>0.000000e+00</td>\n",
       "      <td>2020-12-14</td>\n",
       "      <td>NaN</td>\n",
       "      <td>NaN</td>\n",
       "    </tr>\n",
       "    <tr>\n",
       "      <th>2</th>\n",
       "      <td>Canada</td>\n",
       "      <td>2020-12-15</td>\n",
       "      <td>7.230000e+02</td>\n",
       "      <td>0.000000e+00</td>\n",
       "      <td>0.000000e+00</td>\n",
       "      <td>2020-12-15</td>\n",
       "      <td>124.0</td>\n",
       "      <td>NaN</td>\n",
       "    </tr>\n",
       "    <tr>\n",
       "      <th>3</th>\n",
       "      <td>China</td>\n",
       "      <td>2020-12-15</td>\n",
       "      <td>1.500000e+06</td>\n",
       "      <td>0.000000e+00</td>\n",
       "      <td>0.000000e+00</td>\n",
       "      <td>2020-12-15</td>\n",
       "      <td>156.0</td>\n",
       "      <td>NaN</td>\n",
       "    </tr>\n",
       "    <tr>\n",
       "      <th>4</th>\n",
       "      <td>Russia</td>\n",
       "      <td>2020-12-15</td>\n",
       "      <td>2.850000e+04</td>\n",
       "      <td>2.850000e+04</td>\n",
       "      <td>0.000000e+00</td>\n",
       "      <td>2020-12-15</td>\n",
       "      <td>643.0</td>\n",
       "      <td>NaN</td>\n",
       "    </tr>\n",
       "    <tr>\n",
       "      <th>...</th>\n",
       "      <td>...</td>\n",
       "      <td>...</td>\n",
       "      <td>...</td>\n",
       "      <td>...</td>\n",
       "      <td>...</td>\n",
       "      <td>...</td>\n",
       "      <td>...</td>\n",
       "      <td>...</td>\n",
       "    </tr>\n",
       "    <tr>\n",
       "      <th>260591</th>\n",
       "      <td>West Bank and Gaza</td>\n",
       "      <td>2022-06-25</td>\n",
       "      <td>3.732571e+06</td>\n",
       "      <td>NaN</td>\n",
       "      <td>NaN</td>\n",
       "      <td>2022-06-26</td>\n",
       "      <td>275.0</td>\n",
       "      <td>NaN</td>\n",
       "    </tr>\n",
       "    <tr>\n",
       "      <th>260592</th>\n",
       "      <td>World</td>\n",
       "      <td>2022-06-25</td>\n",
       "      <td>1.164952e+10</td>\n",
       "      <td>4.994180e+09</td>\n",
       "      <td>4.569630e+09</td>\n",
       "      <td>2022-06-26</td>\n",
       "      <td>NaN</td>\n",
       "      <td>NaN</td>\n",
       "    </tr>\n",
       "    <tr>\n",
       "      <th>260593</th>\n",
       "      <td>Yemen</td>\n",
       "      <td>2022-06-25</td>\n",
       "      <td>8.645440e+05</td>\n",
       "      <td>6.979560e+05</td>\n",
       "      <td>4.461200e+05</td>\n",
       "      <td>2022-06-26</td>\n",
       "      <td>887.0</td>\n",
       "      <td>NaN</td>\n",
       "    </tr>\n",
       "    <tr>\n",
       "      <th>260594</th>\n",
       "      <td>Zambia</td>\n",
       "      <td>2022-06-25</td>\n",
       "      <td>6.917310e+06</td>\n",
       "      <td>3.240892e+06</td>\n",
       "      <td>4.329422e+06</td>\n",
       "      <td>2022-06-26</td>\n",
       "      <td>894.0</td>\n",
       "      <td>NaN</td>\n",
       "    </tr>\n",
       "    <tr>\n",
       "      <th>260595</th>\n",
       "      <td>Zimbabwe</td>\n",
       "      <td>2022-06-25</td>\n",
       "      <td>1.198284e+07</td>\n",
       "      <td>6.307655e+06</td>\n",
       "      <td>4.613420e+06</td>\n",
       "      <td>2022-06-26</td>\n",
       "      <td>716.0</td>\n",
       "      <td>NaN</td>\n",
       "    </tr>\n",
       "  </tbody>\n",
       "</table>\n",
       "<p>260596 rows × 8 columns</p>\n",
       "</div>"
      ],
      "text/plain": [
       "            Country_Region        Date   Doses_admin  \\\n",
       "0                   Canada  2020-12-14  5.000000e+00   \n",
       "1                    World  2020-12-14  5.000000e+00   \n",
       "2                   Canada  2020-12-15  7.230000e+02   \n",
       "3                    China  2020-12-15  1.500000e+06   \n",
       "4                   Russia  2020-12-15  2.850000e+04   \n",
       "...                    ...         ...           ...   \n",
       "260591  West Bank and Gaza  2022-06-25  3.732571e+06   \n",
       "260592               World  2022-06-25  1.164952e+10   \n",
       "260593               Yemen  2022-06-25  8.645440e+05   \n",
       "260594              Zambia  2022-06-25  6.917310e+06   \n",
       "260595            Zimbabwe  2022-06-25  1.198284e+07   \n",
       "\n",
       "        People_partially_vaccinated  People_fully_vaccinated  \\\n",
       "0                      0.000000e+00             0.000000e+00   \n",
       "1                      0.000000e+00             0.000000e+00   \n",
       "2                      0.000000e+00             0.000000e+00   \n",
       "3                      0.000000e+00             0.000000e+00   \n",
       "4                      2.850000e+04             0.000000e+00   \n",
       "...                             ...                      ...   \n",
       "260591                          NaN                      NaN   \n",
       "260592                 4.994180e+09             4.569630e+09   \n",
       "260593                 6.979560e+05             4.461200e+05   \n",
       "260594                 3.240892e+06             4.329422e+06   \n",
       "260595                 6.307655e+06             4.613420e+06   \n",
       "\n",
       "       Report_Date_String    UID Province_State  \n",
       "0              2020-12-14  124.0            NaN  \n",
       "1              2020-12-14    NaN            NaN  \n",
       "2              2020-12-15  124.0            NaN  \n",
       "3              2020-12-15  156.0            NaN  \n",
       "4              2020-12-15  643.0            NaN  \n",
       "...                   ...    ...            ...  \n",
       "260591         2022-06-26  275.0            NaN  \n",
       "260592         2022-06-26    NaN            NaN  \n",
       "260593         2022-06-26  887.0            NaN  \n",
       "260594         2022-06-26  894.0            NaN  \n",
       "260595         2022-06-26  716.0            NaN  \n",
       "\n",
       "[260596 rows x 8 columns]"
      ]
     },
     "execution_count": 32,
     "metadata": {},
     "output_type": "execute_result"
    }
   ],
   "source": [
    "vac"
   ]
  },
  {
   "cell_type": "code",
   "execution_count": 33,
   "id": "38f4d8d2",
   "metadata": {},
   "outputs": [
    {
     "data": {
      "text/html": [
       "<div>\n",
       "<style scoped>\n",
       "    .dataframe tbody tr th:only-of-type {\n",
       "        vertical-align: middle;\n",
       "    }\n",
       "\n",
       "    .dataframe tbody tr th {\n",
       "        vertical-align: top;\n",
       "    }\n",
       "\n",
       "    .dataframe thead th {\n",
       "        text-align: right;\n",
       "    }\n",
       "</style>\n",
       "<table border=\"1\" class=\"dataframe\">\n",
       "  <thead>\n",
       "    <tr style=\"text-align: right;\">\n",
       "      <th></th>\n",
       "      <th>Country_Region</th>\n",
       "      <th>Date</th>\n",
       "      <th>People_fully_vaccinated</th>\n",
       "    </tr>\n",
       "  </thead>\n",
       "  <tbody>\n",
       "    <tr>\n",
       "      <th>0</th>\n",
       "      <td>Canada</td>\n",
       "      <td>2020-12-14</td>\n",
       "      <td>0.000000e+00</td>\n",
       "    </tr>\n",
       "    <tr>\n",
       "      <th>1</th>\n",
       "      <td>World</td>\n",
       "      <td>2020-12-14</td>\n",
       "      <td>0.000000e+00</td>\n",
       "    </tr>\n",
       "    <tr>\n",
       "      <th>2</th>\n",
       "      <td>Canada</td>\n",
       "      <td>2020-12-15</td>\n",
       "      <td>0.000000e+00</td>\n",
       "    </tr>\n",
       "    <tr>\n",
       "      <th>3</th>\n",
       "      <td>China</td>\n",
       "      <td>2020-12-15</td>\n",
       "      <td>0.000000e+00</td>\n",
       "    </tr>\n",
       "    <tr>\n",
       "      <th>4</th>\n",
       "      <td>Russia</td>\n",
       "      <td>2020-12-15</td>\n",
       "      <td>0.000000e+00</td>\n",
       "    </tr>\n",
       "    <tr>\n",
       "      <th>...</th>\n",
       "      <td>...</td>\n",
       "      <td>...</td>\n",
       "      <td>...</td>\n",
       "    </tr>\n",
       "    <tr>\n",
       "      <th>260591</th>\n",
       "      <td>West Bank and Gaza</td>\n",
       "      <td>2022-06-25</td>\n",
       "      <td>NaN</td>\n",
       "    </tr>\n",
       "    <tr>\n",
       "      <th>260592</th>\n",
       "      <td>World</td>\n",
       "      <td>2022-06-25</td>\n",
       "      <td>4.569630e+09</td>\n",
       "    </tr>\n",
       "    <tr>\n",
       "      <th>260593</th>\n",
       "      <td>Yemen</td>\n",
       "      <td>2022-06-25</td>\n",
       "      <td>4.461200e+05</td>\n",
       "    </tr>\n",
       "    <tr>\n",
       "      <th>260594</th>\n",
       "      <td>Zambia</td>\n",
       "      <td>2022-06-25</td>\n",
       "      <td>4.329422e+06</td>\n",
       "    </tr>\n",
       "    <tr>\n",
       "      <th>260595</th>\n",
       "      <td>Zimbabwe</td>\n",
       "      <td>2022-06-25</td>\n",
       "      <td>4.613420e+06</td>\n",
       "    </tr>\n",
       "  </tbody>\n",
       "</table>\n",
       "<p>260596 rows × 3 columns</p>\n",
       "</div>"
      ],
      "text/plain": [
       "            Country_Region        Date  People_fully_vaccinated\n",
       "0                   Canada  2020-12-14             0.000000e+00\n",
       "1                    World  2020-12-14             0.000000e+00\n",
       "2                   Canada  2020-12-15             0.000000e+00\n",
       "3                    China  2020-12-15             0.000000e+00\n",
       "4                   Russia  2020-12-15             0.000000e+00\n",
       "...                    ...         ...                      ...\n",
       "260591  West Bank and Gaza  2022-06-25                      NaN\n",
       "260592               World  2022-06-25             4.569630e+09\n",
       "260593               Yemen  2022-06-25             4.461200e+05\n",
       "260594              Zambia  2022-06-25             4.329422e+06\n",
       "260595            Zimbabwe  2022-06-25             4.613420e+06\n",
       "\n",
       "[260596 rows x 3 columns]"
      ]
     },
     "execution_count": 33,
     "metadata": {},
     "output_type": "execute_result"
    }
   ],
   "source": [
    "vac.drop(['Doses_admin','People_partially_vaccinated','Report_Date_String','UID','Province_State'],axis=1)"
   ]
  },
  {
   "cell_type": "code",
   "execution_count": 34,
   "id": "4f374e38",
   "metadata": {},
   "outputs": [],
   "source": [
    "vac.rename(columns = {'Country_Region':'Country', 'People_fully_vaccinated':'Vaccinated_People'}, inplace = True)"
   ]
  },
  {
   "cell_type": "code",
   "execution_count": 35,
   "id": "4fe4a6ba",
   "metadata": {},
   "outputs": [],
   "source": [
    "vac = vac[[\"Date\",\"Country\",\"Vaccinated_People\"]]"
   ]
  },
  {
   "cell_type": "code",
   "execution_count": 36,
   "id": "6bc6e56e",
   "metadata": {},
   "outputs": [],
   "source": [
    "# vac"
   ]
  },
  {
   "cell_type": "code",
   "execution_count": 37,
   "id": "35dd3bf2",
   "metadata": {},
   "outputs": [],
   "source": [
    "country_list=['India','Germany','Spain',] "
   ]
  },
  {
   "cell_type": "code",
   "execution_count": 38,
   "id": "7e7ff0b7",
   "metadata": {},
   "outputs": [],
   "source": [
    "vac1 = vac.copy()"
   ]
  },
  {
   "cell_type": "code",
   "execution_count": 39,
   "id": "98fa1897",
   "metadata": {},
   "outputs": [
    {
     "data": {
      "text/html": [
       "<div>\n",
       "<style scoped>\n",
       "    .dataframe tbody tr th:only-of-type {\n",
       "        vertical-align: middle;\n",
       "    }\n",
       "\n",
       "    .dataframe tbody tr th {\n",
       "        vertical-align: top;\n",
       "    }\n",
       "\n",
       "    .dataframe thead th {\n",
       "        text-align: right;\n",
       "    }\n",
       "</style>\n",
       "<table border=\"1\" class=\"dataframe\">\n",
       "  <thead>\n",
       "    <tr style=\"text-align: right;\">\n",
       "      <th></th>\n",
       "      <th>Date</th>\n",
       "      <th>Country</th>\n",
       "      <th>Vaccinated_People</th>\n",
       "    </tr>\n",
       "  </thead>\n",
       "  <tbody>\n",
       "    <tr>\n",
       "      <th>0</th>\n",
       "      <td>2020-12-14</td>\n",
       "      <td>Canada</td>\n",
       "      <td>0.000000e+00</td>\n",
       "    </tr>\n",
       "    <tr>\n",
       "      <th>1</th>\n",
       "      <td>2020-12-14</td>\n",
       "      <td>World</td>\n",
       "      <td>0.000000e+00</td>\n",
       "    </tr>\n",
       "    <tr>\n",
       "      <th>2</th>\n",
       "      <td>2020-12-15</td>\n",
       "      <td>Canada</td>\n",
       "      <td>0.000000e+00</td>\n",
       "    </tr>\n",
       "    <tr>\n",
       "      <th>3</th>\n",
       "      <td>2020-12-15</td>\n",
       "      <td>China</td>\n",
       "      <td>0.000000e+00</td>\n",
       "    </tr>\n",
       "    <tr>\n",
       "      <th>4</th>\n",
       "      <td>2020-12-15</td>\n",
       "      <td>Russia</td>\n",
       "      <td>0.000000e+00</td>\n",
       "    </tr>\n",
       "    <tr>\n",
       "      <th>...</th>\n",
       "      <td>...</td>\n",
       "      <td>...</td>\n",
       "      <td>...</td>\n",
       "    </tr>\n",
       "    <tr>\n",
       "      <th>260591</th>\n",
       "      <td>2022-06-25</td>\n",
       "      <td>West Bank and Gaza</td>\n",
       "      <td>NaN</td>\n",
       "    </tr>\n",
       "    <tr>\n",
       "      <th>260592</th>\n",
       "      <td>2022-06-25</td>\n",
       "      <td>World</td>\n",
       "      <td>4.569630e+09</td>\n",
       "    </tr>\n",
       "    <tr>\n",
       "      <th>260593</th>\n",
       "      <td>2022-06-25</td>\n",
       "      <td>Yemen</td>\n",
       "      <td>4.461200e+05</td>\n",
       "    </tr>\n",
       "    <tr>\n",
       "      <th>260594</th>\n",
       "      <td>2022-06-25</td>\n",
       "      <td>Zambia</td>\n",
       "      <td>4.329422e+06</td>\n",
       "    </tr>\n",
       "    <tr>\n",
       "      <th>260595</th>\n",
       "      <td>2022-06-25</td>\n",
       "      <td>Zimbabwe</td>\n",
       "      <td>4.613420e+06</td>\n",
       "    </tr>\n",
       "  </tbody>\n",
       "</table>\n",
       "<p>260596 rows × 3 columns</p>\n",
       "</div>"
      ],
      "text/plain": [
       "              Date             Country  Vaccinated_People\n",
       "0       2020-12-14              Canada       0.000000e+00\n",
       "1       2020-12-14               World       0.000000e+00\n",
       "2       2020-12-15              Canada       0.000000e+00\n",
       "3       2020-12-15               China       0.000000e+00\n",
       "4       2020-12-15              Russia       0.000000e+00\n",
       "...            ...                 ...                ...\n",
       "260591  2022-06-25  West Bank and Gaza                NaN\n",
       "260592  2022-06-25               World       4.569630e+09\n",
       "260593  2022-06-25               Yemen       4.461200e+05\n",
       "260594  2022-06-25              Zambia       4.329422e+06\n",
       "260595  2022-06-25            Zimbabwe       4.613420e+06\n",
       "\n",
       "[260596 rows x 3 columns]"
      ]
     },
     "execution_count": 39,
     "metadata": {},
     "output_type": "execute_result"
    }
   ],
   "source": [
    "vac1"
   ]
  },
  {
   "cell_type": "code",
   "execution_count": 40,
   "id": "4dd220b5",
   "metadata": {},
   "outputs": [],
   "source": [
    "vac_1 = vac1[vac1['Country'].isin(country_list)].dropna(axis='rows')  # Deleting rows with empty data"
   ]
  },
  {
   "cell_type": "code",
   "execution_count": 41,
   "id": "dc985c98",
   "metadata": {},
   "outputs": [
    {
     "data": {
      "text/html": [
       "<div>\n",
       "<style scoped>\n",
       "    .dataframe tbody tr th:only-of-type {\n",
       "        vertical-align: middle;\n",
       "    }\n",
       "\n",
       "    .dataframe tbody tr th {\n",
       "        vertical-align: top;\n",
       "    }\n",
       "\n",
       "    .dataframe thead th {\n",
       "        text-align: right;\n",
       "    }\n",
       "</style>\n",
       "<table border=\"1\" class=\"dataframe\">\n",
       "  <thead>\n",
       "    <tr style=\"text-align: right;\">\n",
       "      <th></th>\n",
       "      <th>Date</th>\n",
       "      <th>Country</th>\n",
       "      <th>Vaccinated_People</th>\n",
       "    </tr>\n",
       "  </thead>\n",
       "  <tbody>\n",
       "    <tr>\n",
       "      <th>0</th>\n",
       "      <td>2020-12-27</td>\n",
       "      <td>Germany</td>\n",
       "      <td>11.0</td>\n",
       "    </tr>\n",
       "    <tr>\n",
       "      <th>1</th>\n",
       "      <td>2020-12-28</td>\n",
       "      <td>Germany</td>\n",
       "      <td>11.0</td>\n",
       "    </tr>\n",
       "    <tr>\n",
       "      <th>2</th>\n",
       "      <td>2020-12-29</td>\n",
       "      <td>Germany</td>\n",
       "      <td>600.0</td>\n",
       "    </tr>\n",
       "    <tr>\n",
       "      <th>3</th>\n",
       "      <td>2020-12-30</td>\n",
       "      <td>Germany</td>\n",
       "      <td>604.0</td>\n",
       "    </tr>\n",
       "    <tr>\n",
       "      <th>4</th>\n",
       "      <td>2020-12-31</td>\n",
       "      <td>Germany</td>\n",
       "      <td>744.0</td>\n",
       "    </tr>\n",
       "    <tr>\n",
       "      <th>...</th>\n",
       "      <td>...</td>\n",
       "      <td>...</td>\n",
       "      <td>...</td>\n",
       "    </tr>\n",
       "    <tr>\n",
       "      <th>1604</th>\n",
       "      <td>2022-06-24</td>\n",
       "      <td>India</td>\n",
       "      <td>909724866.0</td>\n",
       "    </tr>\n",
       "    <tr>\n",
       "      <th>1605</th>\n",
       "      <td>2022-06-24</td>\n",
       "      <td>Spain</td>\n",
       "      <td>40550392.0</td>\n",
       "    </tr>\n",
       "    <tr>\n",
       "      <th>1606</th>\n",
       "      <td>2022-06-25</td>\n",
       "      <td>Germany</td>\n",
       "      <td>63336470.0</td>\n",
       "    </tr>\n",
       "    <tr>\n",
       "      <th>1607</th>\n",
       "      <td>2022-06-25</td>\n",
       "      <td>India</td>\n",
       "      <td>910723911.0</td>\n",
       "    </tr>\n",
       "    <tr>\n",
       "      <th>1608</th>\n",
       "      <td>2022-06-25</td>\n",
       "      <td>Spain</td>\n",
       "      <td>40550392.0</td>\n",
       "    </tr>\n",
       "  </tbody>\n",
       "</table>\n",
       "<p>1609 rows × 3 columns</p>\n",
       "</div>"
      ],
      "text/plain": [
       "            Date  Country  Vaccinated_People\n",
       "0     2020-12-27  Germany               11.0\n",
       "1     2020-12-28  Germany               11.0\n",
       "2     2020-12-29  Germany              600.0\n",
       "3     2020-12-30  Germany              604.0\n",
       "4     2020-12-31  Germany              744.0\n",
       "...          ...      ...                ...\n",
       "1604  2022-06-24    India        909724866.0\n",
       "1605  2022-06-24    Spain         40550392.0\n",
       "1606  2022-06-25  Germany         63336470.0\n",
       "1607  2022-06-25    India        910723911.0\n",
       "1608  2022-06-25    Spain         40550392.0\n",
       "\n",
       "[1609 rows x 3 columns]"
      ]
     },
     "execution_count": 41,
     "metadata": {},
     "output_type": "execute_result"
    }
   ],
   "source": [
    "vac_1.reset_index(drop=True)"
   ]
  },
  {
   "cell_type": "code",
   "execution_count": 42,
   "id": "2ec24cc7",
   "metadata": {},
   "outputs": [],
   "source": [
    "vac_indd = vac_1[vac_1['Country']== \"India\"]"
   ]
  },
  {
   "cell_type": "code",
   "execution_count": 43,
   "id": "03d37d4a",
   "metadata": {},
   "outputs": [],
   "source": [
    "vac_ind= vac_indd.reset_index(drop=True)"
   ]
  },
  {
   "cell_type": "code",
   "execution_count": 44,
   "id": "de0f204d",
   "metadata": {},
   "outputs": [],
   "source": [
    "vac_de1 = vac_1[vac_1['Country']== \"Germany\"]"
   ]
  },
  {
   "cell_type": "code",
   "execution_count": 45,
   "id": "524fa102",
   "metadata": {},
   "outputs": [],
   "source": [
    "# vac_de1.head(-1)"
   ]
  },
  {
   "cell_type": "code",
   "execution_count": 46,
   "id": "38e2cd54",
   "metadata": {},
   "outputs": [],
   "source": [
    "# Adding missing data (2021-05-10) and resetting the index\n",
    "\n",
    "vac_de =vac_de1.copy()\n",
    "\n",
    "vac_de.drop(index=vac_de.index[:19],axis=0, inplace=True)\n",
    "\n",
    "df2 = pd.DataFrame({'Date': ['2021-05-10'],\n",
    "                    'Vaccinated_People' : [7913381.0],\n",
    "                    'Country' : ['Germany']})\n",
    "\n",
    "vac_de = pd.concat([vac_de.iloc[:115], df2, vac_de.iloc[115:]]).reset_index(drop=True)"
   ]
  },
  {
   "cell_type": "code",
   "execution_count": 47,
   "id": "84b360f9",
   "metadata": {},
   "outputs": [
    {
     "data": {
      "text/html": [
       "<div>\n",
       "<style scoped>\n",
       "    .dataframe tbody tr th:only-of-type {\n",
       "        vertical-align: middle;\n",
       "    }\n",
       "\n",
       "    .dataframe tbody tr th {\n",
       "        vertical-align: top;\n",
       "    }\n",
       "\n",
       "    .dataframe thead th {\n",
       "        text-align: right;\n",
       "    }\n",
       "</style>\n",
       "<table border=\"1\" class=\"dataframe\">\n",
       "  <thead>\n",
       "    <tr style=\"text-align: right;\">\n",
       "      <th></th>\n",
       "      <th>Date</th>\n",
       "      <th>Country</th>\n",
       "      <th>Vaccinated_People</th>\n",
       "    </tr>\n",
       "  </thead>\n",
       "  <tbody>\n",
       "    <tr>\n",
       "      <th>522</th>\n",
       "      <td>2022-06-21</td>\n",
       "      <td>Germany</td>\n",
       "      <td>64540917.0</td>\n",
       "    </tr>\n",
       "    <tr>\n",
       "      <th>523</th>\n",
       "      <td>2022-06-22</td>\n",
       "      <td>Germany</td>\n",
       "      <td>64540917.0</td>\n",
       "    </tr>\n",
       "    <tr>\n",
       "      <th>524</th>\n",
       "      <td>2022-06-23</td>\n",
       "      <td>Germany</td>\n",
       "      <td>63331376.0</td>\n",
       "    </tr>\n",
       "    <tr>\n",
       "      <th>525</th>\n",
       "      <td>2022-06-24</td>\n",
       "      <td>Germany</td>\n",
       "      <td>63336470.0</td>\n",
       "    </tr>\n",
       "    <tr>\n",
       "      <th>526</th>\n",
       "      <td>2022-06-25</td>\n",
       "      <td>Germany</td>\n",
       "      <td>63336470.0</td>\n",
       "    </tr>\n",
       "  </tbody>\n",
       "</table>\n",
       "</div>"
      ],
      "text/plain": [
       "           Date  Country  Vaccinated_People\n",
       "522  2022-06-21  Germany         64540917.0\n",
       "523  2022-06-22  Germany         64540917.0\n",
       "524  2022-06-23  Germany         63331376.0\n",
       "525  2022-06-24  Germany         63336470.0\n",
       "526  2022-06-25  Germany         63336470.0"
      ]
     },
     "execution_count": 47,
     "metadata": {},
     "output_type": "execute_result"
    }
   ],
   "source": [
    "vac_de[-5:]"
   ]
  },
  {
   "cell_type": "code",
   "execution_count": 48,
   "id": "d7838576",
   "metadata": {},
   "outputs": [
    {
     "data": {
      "text/html": [
       "<div>\n",
       "<style scoped>\n",
       "    .dataframe tbody tr th:only-of-type {\n",
       "        vertical-align: middle;\n",
       "    }\n",
       "\n",
       "    .dataframe tbody tr th {\n",
       "        vertical-align: top;\n",
       "    }\n",
       "\n",
       "    .dataframe thead th {\n",
       "        text-align: right;\n",
       "    }\n",
       "</style>\n",
       "<table border=\"1\" class=\"dataframe\">\n",
       "  <thead>\n",
       "    <tr style=\"text-align: right;\">\n",
       "      <th></th>\n",
       "      <th>Date</th>\n",
       "      <th>Country</th>\n",
       "      <th>Vaccinated_People</th>\n",
       "    </tr>\n",
       "  </thead>\n",
       "  <tbody>\n",
       "    <tr>\n",
       "      <th>522</th>\n",
       "      <td>2022-06-21</td>\n",
       "      <td>India</td>\n",
       "      <td>906949409.0</td>\n",
       "    </tr>\n",
       "    <tr>\n",
       "      <th>523</th>\n",
       "      <td>2022-06-22</td>\n",
       "      <td>India</td>\n",
       "      <td>907810836.0</td>\n",
       "    </tr>\n",
       "    <tr>\n",
       "      <th>524</th>\n",
       "      <td>2022-06-23</td>\n",
       "      <td>India</td>\n",
       "      <td>908786223.0</td>\n",
       "    </tr>\n",
       "    <tr>\n",
       "      <th>525</th>\n",
       "      <td>2022-06-24</td>\n",
       "      <td>India</td>\n",
       "      <td>909724866.0</td>\n",
       "    </tr>\n",
       "    <tr>\n",
       "      <th>526</th>\n",
       "      <td>2022-06-25</td>\n",
       "      <td>India</td>\n",
       "      <td>910723911.0</td>\n",
       "    </tr>\n",
       "  </tbody>\n",
       "</table>\n",
       "</div>"
      ],
      "text/plain": [
       "           Date Country  Vaccinated_People\n",
       "522  2022-06-21   India        906949409.0\n",
       "523  2022-06-22   India        907810836.0\n",
       "524  2022-06-23   India        908786223.0\n",
       "525  2022-06-24   India        909724866.0\n",
       "526  2022-06-25   India        910723911.0"
      ]
     },
     "execution_count": 48,
     "metadata": {},
     "output_type": "execute_result"
    }
   ],
   "source": [
    "vac_ind[-5:]"
   ]
  },
  {
   "cell_type": "code",
   "execution_count": 49,
   "id": "1c6b04f7",
   "metadata": {},
   "outputs": [],
   "source": [
    "# Adding missing data (2021-05-10) and resetting the index\n",
    "\n",
    "vac_esp1 = vac_1[vac_1['Country']== \"Spain\"]\n",
    "\n",
    "vac_esp =vac_esp1.copy()\n",
    "\n",
    "vac_esp.drop(index=vac_esp.index[:11],axis=0, inplace=True)\n",
    "\n",
    "# vac_esp.reset_index(drop=True)\n",
    "\n",
    "df3 = pd.DataFrame({'Date': ['2021-05-10'],\n",
    "                    'Vaccinated_People' : [6271476.0],\n",
    "                    'Country' : ['Spain']})\n",
    "\n",
    "vac_esp = pd.concat([vac_esp.iloc[:115], df3, vac_esp.iloc[115:]]).reset_index(drop=True)"
   ]
  },
  {
   "cell_type": "code",
   "execution_count": 50,
   "id": "9d71df3a",
   "metadata": {},
   "outputs": [
    {
     "data": {
      "text/html": [
       "<div>\n",
       "<style scoped>\n",
       "    .dataframe tbody tr th:only-of-type {\n",
       "        vertical-align: middle;\n",
       "    }\n",
       "\n",
       "    .dataframe tbody tr th {\n",
       "        vertical-align: top;\n",
       "    }\n",
       "\n",
       "    .dataframe thead th {\n",
       "        text-align: right;\n",
       "    }\n",
       "</style>\n",
       "<table border=\"1\" class=\"dataframe\">\n",
       "  <thead>\n",
       "    <tr style=\"text-align: right;\">\n",
       "      <th></th>\n",
       "      <th>Date</th>\n",
       "      <th>Country</th>\n",
       "      <th>Vaccinated_People</th>\n",
       "    </tr>\n",
       "  </thead>\n",
       "  <tbody>\n",
       "    <tr>\n",
       "      <th>522</th>\n",
       "      <td>2022-06-21</td>\n",
       "      <td>Spain</td>\n",
       "      <td>40539246.0</td>\n",
       "    </tr>\n",
       "    <tr>\n",
       "      <th>523</th>\n",
       "      <td>2022-06-22</td>\n",
       "      <td>Spain</td>\n",
       "      <td>40539246.0</td>\n",
       "    </tr>\n",
       "    <tr>\n",
       "      <th>524</th>\n",
       "      <td>2022-06-23</td>\n",
       "      <td>Spain</td>\n",
       "      <td>40539246.0</td>\n",
       "    </tr>\n",
       "    <tr>\n",
       "      <th>525</th>\n",
       "      <td>2022-06-24</td>\n",
       "      <td>Spain</td>\n",
       "      <td>40550392.0</td>\n",
       "    </tr>\n",
       "    <tr>\n",
       "      <th>526</th>\n",
       "      <td>2022-06-25</td>\n",
       "      <td>Spain</td>\n",
       "      <td>40550392.0</td>\n",
       "    </tr>\n",
       "  </tbody>\n",
       "</table>\n",
       "</div>"
      ],
      "text/plain": [
       "           Date Country  Vaccinated_People\n",
       "522  2022-06-21   Spain         40539246.0\n",
       "523  2022-06-22   Spain         40539246.0\n",
       "524  2022-06-23   Spain         40539246.0\n",
       "525  2022-06-24   Spain         40550392.0\n",
       "526  2022-06-25   Spain         40550392.0"
      ]
     },
     "execution_count": 50,
     "metadata": {},
     "output_type": "execute_result"
    }
   ],
   "source": [
    "vac_esp[-5:]"
   ]
  },
  {
   "cell_type": "code",
   "execution_count": 51,
   "id": "7ec062a4",
   "metadata": {},
   "outputs": [
    {
     "data": {
      "text/plain": [
       "527"
      ]
     },
     "execution_count": 51,
     "metadata": {},
     "output_type": "execute_result"
    }
   ],
   "source": [
    "len(vac_de.axes[0])"
   ]
  },
  {
   "cell_type": "code",
   "execution_count": 52,
   "id": "48230dd2",
   "metadata": {},
   "outputs": [
    {
     "data": {
      "text/plain": [
       "527"
      ]
     },
     "execution_count": 52,
     "metadata": {},
     "output_type": "execute_result"
    }
   ],
   "source": [
    "len(vac_esp.axes[0])"
   ]
  },
  {
   "cell_type": "code",
   "execution_count": 53,
   "id": "c036e1f7",
   "metadata": {},
   "outputs": [
    {
     "data": {
      "text/plain": [
       "527"
      ]
     },
     "execution_count": 53,
     "metadata": {},
     "output_type": "execute_result"
    }
   ],
   "source": [
    "len(vac_ind.axes[0])"
   ]
  },
  {
   "cell_type": "code",
   "execution_count": 54,
   "id": "18796ddf",
   "metadata": {},
   "outputs": [],
   "source": [
    "dates = vac['Date'].unique()"
   ]
  },
  {
   "cell_type": "code",
   "execution_count": 55,
   "id": "c4e709ca",
   "metadata": {},
   "outputs": [],
   "source": [
    "# len(dates)"
   ]
  },
  {
   "cell_type": "code",
   "execution_count": 56,
   "id": "2a32af8d",
   "metadata": {},
   "outputs": [],
   "source": [
    "vac_plot=pd.DataFrame({'Date':dates}) # Creating a new data frame with dates "
   ]
  },
  {
   "cell_type": "code",
   "execution_count": 57,
   "id": "99331b7d",
   "metadata": {},
   "outputs": [],
   "source": [
    "vac_plot.drop(index=vac_plot.index[:32],axis=0, inplace=True) # Removing dates without relevant vaccination data"
   ]
  },
  {
   "cell_type": "code",
   "execution_count": 58,
   "id": "3d177bd1",
   "metadata": {
    "scrolled": true
   },
   "outputs": [],
   "source": [
    "vacc_plot = vac_plot.reset_index(drop=True)"
   ]
  },
  {
   "cell_type": "markdown",
   "id": "e4b36e74",
   "metadata": {},
   "source": [
    "## Creating a new vaccination data frame"
   ]
  },
  {
   "cell_type": "code",
   "execution_count": 59,
   "id": "71428e7e",
   "metadata": {},
   "outputs": [],
   "source": [
    "vacc_plot[\"India\"]=vac_ind[['Vaccinated_People']].copy()"
   ]
  },
  {
   "cell_type": "code",
   "execution_count": 60,
   "id": "35a4e5a2",
   "metadata": {},
   "outputs": [],
   "source": [
    "vacc_plot[\"Germany\"]=vac_de[['Vaccinated_People']].copy()"
   ]
  },
  {
   "cell_type": "code",
   "execution_count": 61,
   "id": "59e95a51",
   "metadata": {},
   "outputs": [],
   "source": [
    "vacc_plot[\"Spain\"]=vac_esp[['Vaccinated_People']].copy()"
   ]
  },
  {
   "cell_type": "code",
   "execution_count": 62,
   "id": "e63301e6",
   "metadata": {
    "scrolled": true
   },
   "outputs": [
    {
     "data": {
      "text/html": [
       "<div>\n",
       "<style scoped>\n",
       "    .dataframe tbody tr th:only-of-type {\n",
       "        vertical-align: middle;\n",
       "    }\n",
       "\n",
       "    .dataframe tbody tr th {\n",
       "        vertical-align: top;\n",
       "    }\n",
       "\n",
       "    .dataframe thead th {\n",
       "        text-align: right;\n",
       "    }\n",
       "</style>\n",
       "<table border=\"1\" class=\"dataframe\">\n",
       "  <thead>\n",
       "    <tr style=\"text-align: right;\">\n",
       "      <th></th>\n",
       "      <th>Date</th>\n",
       "      <th>India</th>\n",
       "      <th>Germany</th>\n",
       "      <th>Spain</th>\n",
       "    </tr>\n",
       "  </thead>\n",
       "  <tbody>\n",
       "    <tr>\n",
       "      <th>0</th>\n",
       "      <td>2021-01-15</td>\n",
       "      <td>0.0</td>\n",
       "      <td>2501.0</td>\n",
       "      <td>0.0</td>\n",
       "    </tr>\n",
       "    <tr>\n",
       "      <th>1</th>\n",
       "      <td>2021-01-16</td>\n",
       "      <td>0.0</td>\n",
       "      <td>3400.0</td>\n",
       "      <td>0.0</td>\n",
       "    </tr>\n",
       "    <tr>\n",
       "      <th>2</th>\n",
       "      <td>2021-01-17</td>\n",
       "      <td>0.0</td>\n",
       "      <td>20585.0</td>\n",
       "      <td>0.0</td>\n",
       "    </tr>\n",
       "    <tr>\n",
       "      <th>3</th>\n",
       "      <td>2021-01-18</td>\n",
       "      <td>0.0</td>\n",
       "      <td>36315.0</td>\n",
       "      <td>2315.0</td>\n",
       "    </tr>\n",
       "    <tr>\n",
       "      <th>4</th>\n",
       "      <td>2021-01-19</td>\n",
       "      <td>0.0</td>\n",
       "      <td>69756.0</td>\n",
       "      <td>9341.0</td>\n",
       "    </tr>\n",
       "  </tbody>\n",
       "</table>\n",
       "</div>"
      ],
      "text/plain": [
       "         Date  India  Germany   Spain\n",
       "0  2021-01-15    0.0   2501.0     0.0\n",
       "1  2021-01-16    0.0   3400.0     0.0\n",
       "2  2021-01-17    0.0  20585.0     0.0\n",
       "3  2021-01-18    0.0  36315.0  2315.0\n",
       "4  2021-01-19    0.0  69756.0  9341.0"
      ]
     },
     "execution_count": 62,
     "metadata": {},
     "output_type": "execute_result"
    }
   ],
   "source": [
    "vacc_plot.head()"
   ]
  },
  {
   "cell_type": "code",
   "execution_count": 63,
   "id": "75056b28",
   "metadata": {},
   "outputs": [
    {
     "data": {
      "text/html": [
       "<div>\n",
       "<style scoped>\n",
       "    .dataframe tbody tr th:only-of-type {\n",
       "        vertical-align: middle;\n",
       "    }\n",
       "\n",
       "    .dataframe tbody tr th {\n",
       "        vertical-align: top;\n",
       "    }\n",
       "\n",
       "    .dataframe thead th {\n",
       "        text-align: right;\n",
       "    }\n",
       "</style>\n",
       "<table border=\"1\" class=\"dataframe\">\n",
       "  <thead>\n",
       "    <tr style=\"text-align: right;\">\n",
       "      <th></th>\n",
       "      <th>Date</th>\n",
       "      <th>India</th>\n",
       "      <th>Germany</th>\n",
       "      <th>Spain</th>\n",
       "    </tr>\n",
       "  </thead>\n",
       "  <tbody>\n",
       "    <tr>\n",
       "      <th>522</th>\n",
       "      <td>2022-06-21</td>\n",
       "      <td>906949409.0</td>\n",
       "      <td>64540917.0</td>\n",
       "      <td>40539246.0</td>\n",
       "    </tr>\n",
       "    <tr>\n",
       "      <th>523</th>\n",
       "      <td>2022-06-22</td>\n",
       "      <td>907810836.0</td>\n",
       "      <td>64540917.0</td>\n",
       "      <td>40539246.0</td>\n",
       "    </tr>\n",
       "    <tr>\n",
       "      <th>524</th>\n",
       "      <td>2022-06-23</td>\n",
       "      <td>908786223.0</td>\n",
       "      <td>63331376.0</td>\n",
       "      <td>40539246.0</td>\n",
       "    </tr>\n",
       "    <tr>\n",
       "      <th>525</th>\n",
       "      <td>2022-06-24</td>\n",
       "      <td>909724866.0</td>\n",
       "      <td>63336470.0</td>\n",
       "      <td>40550392.0</td>\n",
       "    </tr>\n",
       "    <tr>\n",
       "      <th>526</th>\n",
       "      <td>2022-06-25</td>\n",
       "      <td>910723911.0</td>\n",
       "      <td>63336470.0</td>\n",
       "      <td>40550392.0</td>\n",
       "    </tr>\n",
       "  </tbody>\n",
       "</table>\n",
       "</div>"
      ],
      "text/plain": [
       "           Date        India     Germany       Spain\n",
       "522  2022-06-21  906949409.0  64540917.0  40539246.0\n",
       "523  2022-06-22  907810836.0  64540917.0  40539246.0\n",
       "524  2022-06-23  908786223.0  63331376.0  40539246.0\n",
       "525  2022-06-24  909724866.0  63336470.0  40550392.0\n",
       "526  2022-06-25  910723911.0  63336470.0  40550392.0"
      ]
     },
     "execution_count": 63,
     "metadata": {},
     "output_type": "execute_result"
    }
   ],
   "source": [
    "vacc_plot.tail()"
   ]
  },
  {
   "cell_type": "code",
   "execution_count": 64,
   "id": "23b8ba31",
   "metadata": {},
   "outputs": [],
   "source": [
    "vacc_plot.to_csv('../data/processed/COVID_vaccination_table.csv',sep=';',index=False)"
   ]
  },
  {
   "cell_type": "markdown",
   "id": "ccdd61b1",
   "metadata": {},
   "source": [
    "### Vaccination per population"
   ]
  },
  {
   "cell_type": "code",
   "execution_count": 65,
   "id": "c77f0cbe",
   "metadata": {},
   "outputs": [],
   "source": [
    "vac_per_pop = vacc_plot.copy()"
   ]
  },
  {
   "cell_type": "code",
   "execution_count": 66,
   "id": "4232909a",
   "metadata": {},
   "outputs": [],
   "source": [
    "vac_per_pop[\"India\"] = vacc_plot[\"India\"].div(india_pop).mul(100)\n",
    "vac_per_pop[\"Germany\"] = vacc_plot[\"Germany\"].div(germany_pop).mul(100)\n",
    "vac_per_pop[\"Spain\"] = vacc_plot[\"Spain\"].div(spain_pop).mul(100)"
   ]
  },
  {
   "cell_type": "code",
   "execution_count": 67,
   "id": "bdaaba4e",
   "metadata": {},
   "outputs": [
    {
     "data": {
      "text/html": [
       "<div>\n",
       "<style scoped>\n",
       "    .dataframe tbody tr th:only-of-type {\n",
       "        vertical-align: middle;\n",
       "    }\n",
       "\n",
       "    .dataframe tbody tr th {\n",
       "        vertical-align: top;\n",
       "    }\n",
       "\n",
       "    .dataframe thead th {\n",
       "        text-align: right;\n",
       "    }\n",
       "</style>\n",
       "<table border=\"1\" class=\"dataframe\">\n",
       "  <thead>\n",
       "    <tr style=\"text-align: right;\">\n",
       "      <th></th>\n",
       "      <th>Date</th>\n",
       "      <th>India</th>\n",
       "      <th>Germany</th>\n",
       "      <th>Spain</th>\n",
       "    </tr>\n",
       "  </thead>\n",
       "  <tbody>\n",
       "    <tr>\n",
       "      <th>522</th>\n",
       "      <td>2022-06-21</td>\n",
       "      <td>67.051441</td>\n",
       "      <td>77.827727</td>\n",
       "      <td>86.763684</td>\n",
       "    </tr>\n",
       "    <tr>\n",
       "      <th>523</th>\n",
       "      <td>2022-06-22</td>\n",
       "      <td>67.115127</td>\n",
       "      <td>77.827727</td>\n",
       "      <td>86.763684</td>\n",
       "    </tr>\n",
       "    <tr>\n",
       "      <th>524</th>\n",
       "      <td>2022-06-23</td>\n",
       "      <td>67.187238</td>\n",
       "      <td>76.369182</td>\n",
       "      <td>86.763684</td>\n",
       "    </tr>\n",
       "    <tr>\n",
       "      <th>525</th>\n",
       "      <td>2022-06-24</td>\n",
       "      <td>67.256633</td>\n",
       "      <td>76.375325</td>\n",
       "      <td>86.787539</td>\n",
       "    </tr>\n",
       "    <tr>\n",
       "      <th>526</th>\n",
       "      <td>2022-06-25</td>\n",
       "      <td>67.330493</td>\n",
       "      <td>76.375325</td>\n",
       "      <td>86.787539</td>\n",
       "    </tr>\n",
       "  </tbody>\n",
       "</table>\n",
       "</div>"
      ],
      "text/plain": [
       "           Date      India    Germany      Spain\n",
       "522  2022-06-21  67.051441  77.827727  86.763684\n",
       "523  2022-06-22  67.115127  77.827727  86.763684\n",
       "524  2022-06-23  67.187238  76.369182  86.763684\n",
       "525  2022-06-24  67.256633  76.375325  86.787539\n",
       "526  2022-06-25  67.330493  76.375325  86.787539"
      ]
     },
     "execution_count": 67,
     "metadata": {},
     "output_type": "execute_result"
    }
   ],
   "source": [
    "vac_per_pop[-5:]"
   ]
  },
  {
   "cell_type": "code",
   "execution_count": 68,
   "id": "78851f6e",
   "metadata": {},
   "outputs": [],
   "source": [
    "vac_per_pop.to_csv('../data/processed/COVID_vaccination_per_pop_table.csv',sep=';',index=False)"
   ]
  },
  {
   "cell_type": "markdown",
   "id": "e7b34e65",
   "metadata": {},
   "source": [
    "## Reading Vaccination csv file to plot graph"
   ]
  },
  {
   "cell_type": "code",
   "execution_count": 69,
   "id": "57612718",
   "metadata": {},
   "outputs": [
    {
     "data": {
      "text/html": [
       "<div>\n",
       "<style scoped>\n",
       "    .dataframe tbody tr th:only-of-type {\n",
       "        vertical-align: middle;\n",
       "    }\n",
       "\n",
       "    .dataframe tbody tr th {\n",
       "        vertical-align: top;\n",
       "    }\n",
       "\n",
       "    .dataframe thead th {\n",
       "        text-align: right;\n",
       "    }\n",
       "</style>\n",
       "<table border=\"1\" class=\"dataframe\">\n",
       "  <thead>\n",
       "    <tr style=\"text-align: right;\">\n",
       "      <th></th>\n",
       "      <th>Date</th>\n",
       "      <th>India</th>\n",
       "      <th>Germany</th>\n",
       "      <th>Spain</th>\n",
       "    </tr>\n",
       "  </thead>\n",
       "  <tbody>\n",
       "    <tr>\n",
       "      <th>526</th>\n",
       "      <td>2022-06-25</td>\n",
       "      <td>910723911.0</td>\n",
       "      <td>63336470.0</td>\n",
       "      <td>40550392.0</td>\n",
       "    </tr>\n",
       "    <tr>\n",
       "      <th>525</th>\n",
       "      <td>2022-06-24</td>\n",
       "      <td>909724866.0</td>\n",
       "      <td>63336470.0</td>\n",
       "      <td>40550392.0</td>\n",
       "    </tr>\n",
       "    <tr>\n",
       "      <th>524</th>\n",
       "      <td>2022-06-23</td>\n",
       "      <td>908786223.0</td>\n",
       "      <td>63331376.0</td>\n",
       "      <td>40539246.0</td>\n",
       "    </tr>\n",
       "    <tr>\n",
       "      <th>523</th>\n",
       "      <td>2022-06-22</td>\n",
       "      <td>907810836.0</td>\n",
       "      <td>64540917.0</td>\n",
       "      <td>40539246.0</td>\n",
       "    </tr>\n",
       "    <tr>\n",
       "      <th>522</th>\n",
       "      <td>2022-06-21</td>\n",
       "      <td>906949409.0</td>\n",
       "      <td>64540917.0</td>\n",
       "      <td>40539246.0</td>\n",
       "    </tr>\n",
       "  </tbody>\n",
       "</table>\n",
       "</div>"
      ],
      "text/plain": [
       "           Date        India     Germany       Spain\n",
       "526  2022-06-25  910723911.0  63336470.0  40550392.0\n",
       "525  2022-06-24  909724866.0  63336470.0  40550392.0\n",
       "524  2022-06-23  908786223.0  63331376.0  40539246.0\n",
       "523  2022-06-22  907810836.0  64540917.0  40539246.0\n",
       "522  2022-06-21  906949409.0  64540917.0  40539246.0"
      ]
     },
     "execution_count": 69,
     "metadata": {},
     "output_type": "execute_result"
    }
   ],
   "source": [
    "vacc_plot=pd.read_csv('../data/processed/COVID_vaccination_table.csv',sep=';')\n",
    "vacc_plot.sort_values('Date',ascending=False).head()\n"
   ]
  },
  {
   "cell_type": "code",
   "execution_count": 70,
   "id": "47df008b",
   "metadata": {},
   "outputs": [
    {
     "data": {
      "text/html": [
       "<div>\n",
       "<style scoped>\n",
       "    .dataframe tbody tr th:only-of-type {\n",
       "        vertical-align: middle;\n",
       "    }\n",
       "\n",
       "    .dataframe tbody tr th {\n",
       "        vertical-align: top;\n",
       "    }\n",
       "\n",
       "    .dataframe thead th {\n",
       "        text-align: right;\n",
       "    }\n",
       "</style>\n",
       "<table border=\"1\" class=\"dataframe\">\n",
       "  <thead>\n",
       "    <tr style=\"text-align: right;\">\n",
       "      <th></th>\n",
       "      <th>Date</th>\n",
       "      <th>India</th>\n",
       "      <th>Germany</th>\n",
       "      <th>Spain</th>\n",
       "    </tr>\n",
       "  </thead>\n",
       "  <tbody>\n",
       "    <tr>\n",
       "      <th>526</th>\n",
       "      <td>2022-06-25</td>\n",
       "      <td>67.330493</td>\n",
       "      <td>76.375325</td>\n",
       "      <td>86.787539</td>\n",
       "    </tr>\n",
       "    <tr>\n",
       "      <th>525</th>\n",
       "      <td>2022-06-24</td>\n",
       "      <td>67.256633</td>\n",
       "      <td>76.375325</td>\n",
       "      <td>86.787539</td>\n",
       "    </tr>\n",
       "    <tr>\n",
       "      <th>524</th>\n",
       "      <td>2022-06-23</td>\n",
       "      <td>67.187238</td>\n",
       "      <td>76.369182</td>\n",
       "      <td>86.763684</td>\n",
       "    </tr>\n",
       "    <tr>\n",
       "      <th>523</th>\n",
       "      <td>2022-06-22</td>\n",
       "      <td>67.115127</td>\n",
       "      <td>77.827727</td>\n",
       "      <td>86.763684</td>\n",
       "    </tr>\n",
       "    <tr>\n",
       "      <th>522</th>\n",
       "      <td>2022-06-21</td>\n",
       "      <td>67.051441</td>\n",
       "      <td>77.827727</td>\n",
       "      <td>86.763684</td>\n",
       "    </tr>\n",
       "  </tbody>\n",
       "</table>\n",
       "</div>"
      ],
      "text/plain": [
       "           Date      India    Germany      Spain\n",
       "526  2022-06-25  67.330493  76.375325  86.787539\n",
       "525  2022-06-24  67.256633  76.375325  86.787539\n",
       "524  2022-06-23  67.187238  76.369182  86.763684\n",
       "523  2022-06-22  67.115127  77.827727  86.763684\n",
       "522  2022-06-21  67.051441  77.827727  86.763684"
      ]
     },
     "execution_count": 70,
     "metadata": {},
     "output_type": "execute_result"
    }
   ],
   "source": [
    "vac_per_pop=pd.read_csv('../data/processed/COVID_vaccination_per_pop_table.csv',sep=';')\n",
    "vac_per_pop.sort_values('Date',ascending=False).head()"
   ]
  },
  {
   "cell_type": "markdown",
   "id": "12f5d776",
   "metadata": {},
   "source": [
    "## Vaccination plot over time"
   ]
  },
  {
   "cell_type": "code",
   "execution_count": 71,
   "id": "a03b4cb2",
   "metadata": {},
   "outputs": [
    {
     "data": {
      "text/plain": [
       "Text(0.5, 1.0, 'Fully vaccinated people in India, Germany and Spain over Time')"
      ]
     },
     "execution_count": 71,
     "metadata": {},
     "output_type": "execute_result"
    },
    {
     "data": {
      "text/plain": [
       "<Figure size 1152x648 with 0 Axes>"
      ]
     },
     "metadata": {},
     "output_type": "display_data"
    },
    {
     "data": {
      "image/png": "[encoded data removed]",
      "text/plain": [
       "<Figure size 1152x648 with 1 Axes>"
      ]
     },
     "metadata": {},
     "output_type": "display_data"
    }
   ],
   "source": [
    "plt.figure();\n",
    "ax=vacc_plot.iloc[:,:].set_index('Date').plot()\n",
    "plt.ylim(0, 100000000)\n",
    "# plt.xlim(0,100)\n",
    "plt.ylabel('Fully vaccinated People')\n",
    "plt.xlabel('Time')\n",
    "plt.title(\"Fully vaccinated people in India, Germany and Spain over Time\")\n",
    "# ax.set_yscale('log')"
   ]
  },
  {
   "cell_type": "markdown",
   "id": "490aafb9",
   "metadata": {},
   "source": [
    "## Vaccination per population plot over time"
   ]
  },
  {
   "cell_type": "code",
   "execution_count": 72,
   "id": "ad6a7046",
   "metadata": {},
   "outputs": [
    {
     "data": {
      "text/plain": [
       "Text(0.5, 1.0, 'Vaccination rate in India, Germany and Spain over Time')"
      ]
     },
     "execution_count": 72,
     "metadata": {},
     "output_type": "execute_result"
    },
    {
     "data": {
      "text/plain": [
       "<Figure size 1152x648 with 0 Axes>"
      ]
     },
     "metadata": {},
     "output_type": "display_data"
    },
    {
     "data": {
      "image/png": "[encoded data removed]",
      "text/plain": [
       "<Figure size 1152x648 with 1 Axes>"
      ]
     },
     "metadata": {},
     "output_type": "display_data"
    }
   ],
   "source": [
    "plt.figure();\n",
    "ax=vac_per_pop.iloc[:,:].set_index('Date').plot()\n",
    "plt.ylim(0, 100)\n",
    "# plt.xlim(0,100)\n",
    "plt.ylabel('Vaccination Rate (%)')\n",
    "plt.xlabel('Time')\n",
    "plt.title(\"Vaccination rate in India, Germany and Spain over Time\")"
   ]
  },
  {
   "cell_type": "code",
   "execution_count": null,
   "id": "88d94396",
   "metadata": {},
   "outputs": [],
   "source": []
  },
  {
   "cell_type": "code",
   "execution_count": null,
   "id": "afc0973c",
   "metadata": {},
   "outputs": [],
   "source": []
  }
 ],
 "metadata": {
  "kernelspec": {
   "display_name": "Python 3 (ipykernel)",
   "language": "python",
   "name": "python3"
  },
  "language_info": {
   "codemirror_mode": {
    "name": "ipython",
    "version": 3
   },
   "file_extension": ".py",
   "mimetype": "text/x-python",
   "name": "python",
   "nbconvert_exporter": "python",
   "pygments_lexer": "ipython3",
   "version": "3.7.9"
  }
 },
 "nbformat": 4,
 "nbformat_minor": 5
}
